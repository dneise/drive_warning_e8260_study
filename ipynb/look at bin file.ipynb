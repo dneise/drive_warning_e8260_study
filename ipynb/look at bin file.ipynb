{
 "cells": [
  {
   "cell_type": "code",
   "execution_count": 11,
   "metadata": {
    "collapsed": false
   },
   "outputs": [
    {
     "name": "stdout",
     "output_type": "stream",
     "text": [
      "Using matplotlib backend: Qt5Agg\n"
     ]
    }
   ],
   "source": [
    "import pandas as pd\n",
    "import numpy as np\n",
    "import matplotlib.pyplot as plt\n",
    "%matplotlib\n",
    "from glob import glob\n",
    "from tqdm import tqdm\n",
    "from astropy.table import Table"
   ]
  },
  {
   "cell_type": "code",
   "execution_count": 2,
   "metadata": {
    "collapsed": false
   },
   "outputs": [],
   "source": [
    "names = \"\"\"Time\n",
    "Beschleunigungsistwert1\n",
    "DrehmomentIstwert\n",
    "DrehmomentSollwert\n",
    "DrehmomentSollwertAdditiv\n",
    "GeschwindigkeitsIstwert\n",
    "GeschwindigkeitsSollwert\n",
    "GeschwindigkeitsSollwertAdditiv\n",
    "LageIstwert1\n",
    "LageIstwert2\n",
    "LageSollwert\n",
    "MotorTemperatur\n",
    "AplifierTemperatur\n",
    "\"\"\".splitlines()"
   ]
  },
  {
   "cell_type": "code",
   "execution_count": 30,
   "metadata": {
    "collapsed": false
   },
   "outputs": [
    {
     "data": {
      "text/html": [
       "<div>\n",
       "<table border=\"1\" class=\"dataframe\">\n",
       "  <thead>\n",
       "    <tr style=\"text-align: right;\">\n",
       "      <th></th>\n",
       "      <th>Beschleunigungsistwert1</th>\n",
       "      <th>DrehmomentIstwert</th>\n",
       "      <th>DrehmomentSollwert</th>\n",
       "      <th>DrehmomentSollwertAdditiv</th>\n",
       "      <th>GeschwindigkeitsIstwert</th>\n",
       "      <th>GeschwindigkeitsSollwert</th>\n",
       "      <th>GeschwindigkeitsSollwertAdditiv</th>\n",
       "      <th>LageIstwert1</th>\n",
       "      <th>LageIstwert2</th>\n",
       "      <th>LageSollwert</th>\n",
       "      <th>MotorTemperatur</th>\n",
       "      <th>AplifierTemperatur</th>\n",
       "    </tr>\n",
       "    <tr>\n",
       "      <th>Time</th>\n",
       "      <th></th>\n",
       "      <th></th>\n",
       "      <th></th>\n",
       "      <th></th>\n",
       "      <th></th>\n",
       "      <th></th>\n",
       "      <th></th>\n",
       "      <th></th>\n",
       "      <th></th>\n",
       "      <th></th>\n",
       "      <th></th>\n",
       "      <th></th>\n",
       "    </tr>\n",
       "  </thead>\n",
       "  <tbody>\n",
       "    <tr>\n",
       "      <th>2017-04-23 13:44:30.892392</th>\n",
       "      <td>0.727428</td>\n",
       "      <td>1.0</td>\n",
       "      <td>0.0</td>\n",
       "      <td>0.0</td>\n",
       "      <td>215.0</td>\n",
       "      <td>0.0</td>\n",
       "      <td>0.0</td>\n",
       "      <td>12313.0</td>\n",
       "      <td>12303.0</td>\n",
       "      <td>12313.0</td>\n",
       "      <td>140.0</td>\n",
       "      <td>447.0</td>\n",
       "    </tr>\n",
       "    <tr>\n",
       "      <th>2017-04-23 13:44:30.970530</th>\n",
       "      <td>-0.544566</td>\n",
       "      <td>-2.0</td>\n",
       "      <td>0.0</td>\n",
       "      <td>0.0</td>\n",
       "      <td>0.0</td>\n",
       "      <td>0.0</td>\n",
       "      <td>0.0</td>\n",
       "      <td>12313.0</td>\n",
       "      <td>12304.0</td>\n",
       "      <td>12313.0</td>\n",
       "      <td>140.0</td>\n",
       "      <td>447.0</td>\n",
       "    </tr>\n",
       "    <tr>\n",
       "      <th>2017-04-23 13:44:31.048668</th>\n",
       "      <td>-0.924871</td>\n",
       "      <td>-3.0</td>\n",
       "      <td>0.0</td>\n",
       "      <td>0.0</td>\n",
       "      <td>-322.0</td>\n",
       "      <td>0.0</td>\n",
       "      <td>0.0</td>\n",
       "      <td>12313.0</td>\n",
       "      <td>12304.0</td>\n",
       "      <td>12313.0</td>\n",
       "      <td>140.0</td>\n",
       "      <td>447.0</td>\n",
       "    </tr>\n",
       "    <tr>\n",
       "      <th>2017-04-23 13:44:31.111178</th>\n",
       "      <td>-0.156165</td>\n",
       "      <td>-4.0</td>\n",
       "      <td>0.0</td>\n",
       "      <td>0.0</td>\n",
       "      <td>107.0</td>\n",
       "      <td>0.0</td>\n",
       "      <td>0.0</td>\n",
       "      <td>12313.0</td>\n",
       "      <td>12304.0</td>\n",
       "      <td>12313.0</td>\n",
       "      <td>140.0</td>\n",
       "      <td>447.0</td>\n",
       "    </tr>\n",
       "    <tr>\n",
       "      <th>2017-04-23 13:44:31.173689</th>\n",
       "      <td>-0.022168</td>\n",
       "      <td>-3.0</td>\n",
       "      <td>0.0</td>\n",
       "      <td>0.0</td>\n",
       "      <td>-143.0</td>\n",
       "      <td>0.0</td>\n",
       "      <td>0.0</td>\n",
       "      <td>12313.0</td>\n",
       "      <td>12304.0</td>\n",
       "      <td>12313.0</td>\n",
       "      <td>140.0</td>\n",
       "      <td>447.0</td>\n",
       "    </tr>\n",
       "  </tbody>\n",
       "</table>\n",
       "</div>"
      ],
      "text/plain": [
       "                            Beschleunigungsistwert1  DrehmomentIstwert  \\\n",
       "Time                                                                     \n",
       "2017-04-23 13:44:30.892392                 0.727428                1.0   \n",
       "2017-04-23 13:44:30.970530                -0.544566               -2.0   \n",
       "2017-04-23 13:44:31.048668                -0.924871               -3.0   \n",
       "2017-04-23 13:44:31.111178                -0.156165               -4.0   \n",
       "2017-04-23 13:44:31.173689                -0.022168               -3.0   \n",
       "\n",
       "                            DrehmomentSollwert  DrehmomentSollwertAdditiv  \\\n",
       "Time                                                                        \n",
       "2017-04-23 13:44:30.892392                 0.0                        0.0   \n",
       "2017-04-23 13:44:30.970530                 0.0                        0.0   \n",
       "2017-04-23 13:44:31.048668                 0.0                        0.0   \n",
       "2017-04-23 13:44:31.111178                 0.0                        0.0   \n",
       "2017-04-23 13:44:31.173689                 0.0                        0.0   \n",
       "\n",
       "                            GeschwindigkeitsIstwert  GeschwindigkeitsSollwert  \\\n",
       "Time                                                                            \n",
       "2017-04-23 13:44:30.892392                    215.0                       0.0   \n",
       "2017-04-23 13:44:30.970530                      0.0                       0.0   \n",
       "2017-04-23 13:44:31.048668                   -322.0                       0.0   \n",
       "2017-04-23 13:44:31.111178                    107.0                       0.0   \n",
       "2017-04-23 13:44:31.173689                   -143.0                       0.0   \n",
       "\n",
       "                            GeschwindigkeitsSollwertAdditiv  LageIstwert1  \\\n",
       "Time                                                                        \n",
       "2017-04-23 13:44:30.892392                              0.0       12313.0   \n",
       "2017-04-23 13:44:30.970530                              0.0       12313.0   \n",
       "2017-04-23 13:44:31.048668                              0.0       12313.0   \n",
       "2017-04-23 13:44:31.111178                              0.0       12313.0   \n",
       "2017-04-23 13:44:31.173689                              0.0       12313.0   \n",
       "\n",
       "                            LageIstwert2  LageSollwert  MotorTemperatur  \\\n",
       "Time                                                                      \n",
       "2017-04-23 13:44:30.892392       12303.0       12313.0            140.0   \n",
       "2017-04-23 13:44:30.970530       12304.0       12313.0            140.0   \n",
       "2017-04-23 13:44:31.048668       12304.0       12313.0            140.0   \n",
       "2017-04-23 13:44:31.111178       12304.0       12313.0            140.0   \n",
       "2017-04-23 13:44:31.173689       12304.0       12313.0            140.0   \n",
       "\n",
       "                            AplifierTemperatur  \n",
       "Time                                            \n",
       "2017-04-23 13:44:30.892392               447.0  \n",
       "2017-04-23 13:44:30.970530               447.0  \n",
       "2017-04-23 13:44:31.048668               447.0  \n",
       "2017-04-23 13:44:31.111178               447.0  \n",
       "2017-04-23 13:44:31.173689               447.0  "
      ]
     },
     "execution_count": 30,
     "metadata": {},
     "output_type": "execute_result"
    }
   ],
   "source": [
    "az = []\n",
    "for path in sorted(glob(\"*azi*.bin\")):\n",
    "    a = np.fromfile(path)\n",
    "    df = pd.DataFrame(data=a.reshape(-1, len(names)), columns=names)\n",
    "    df.Time = pd.to_datetime(df.Time, unit='s')\n",
    "    df.set_index('Time', inplace=True)\n",
    "    az.append(df)\n",
    "az = pd.concat(az)\n",
    "az.sort_index(inplace=True)\n",
    "az.head()"
   ]
  },
  {
   "cell_type": "code",
   "execution_count": 31,
   "metadata": {
    "collapsed": false
   },
   "outputs": [],
   "source": [
    "for name in az.columns:\n",
    "    if \"Lage\" in name:\n",
    "        az[name] = az[name] / 1e4\n",
    "for name in az.columns:\n",
    "    if \"Temperatur\" in name:\n",
    "        az[name] = az[name] / 10\n"
   ]
  },
  {
   "cell_type": "code",
   "execution_count": 13,
   "metadata": {
    "collapsed": false
   },
   "outputs": [
    {
     "name": "stderr",
     "output_type": "stream",
     "text": [
      "WARNING: UnitsWarning: 'MJD' did not parse as fits unit: At col 0, Unit 'MJD' not supported by the FITS standard. Did you mean MJ or mJ? [astropy.units.core]\n"
     ]
    }
   ],
   "source": [
    "aux = Table.read('20170423.DRIVE_CONTROL_POINTING_POSITION.fits')\n",
    "aux = aux.to_pandas()\n",
    "aux['Time'] = pd.to_datetime(aux.Time, unit='d')\n",
    "aux.set_index('Time', inplace=True)"
   ]
  },
  {
   "cell_type": "code",
   "execution_count": 15,
   "metadata": {
    "collapsed": false
   },
   "outputs": [
    {
     "data": {
      "text/plain": [
       "<matplotlib.legend.Legend at 0x7f07fb5cde48>"
      ]
     },
     "execution_count": 15,
     "metadata": {},
     "output_type": "execute_result"
    }
   ],
   "source": [
    "plt.plot(az.LageIstwert1, '.:')\n",
    "plt.plot(az.LageSollwert, '.:')\n",
    "plt.plot(aux.Az, '.:')\n",
    "plt.legend()"
   ]
  },
  {
   "cell_type": "code",
   "execution_count": 43,
   "metadata": {
    "collapsed": false
   },
   "outputs": [
    {
     "data": {
      "text/plain": [
       "<matplotlib.legend.Legend at 0x7f07f014e588>"
      ]
     },
     "execution_count": 43,
     "metadata": {},
     "output_type": "execute_result"
    }
   ],
   "source": [
    "plt.plot(az.GeschwindigkeitsIstwert, '.:')\n",
    "plt.legend()"
   ]
  },
  {
   "cell_type": "code",
   "execution_count": 21,
   "metadata": {
    "collapsed": false
   },
   "outputs": [
    {
     "data": {
      "text/plain": [
       "[<matplotlib.lines.Line2D at 0x7f07f3eaf400>]"
      ]
     },
     "execution_count": 21,
     "metadata": {},
     "output_type": "execute_result"
    }
   ],
   "source": [
    "plt.plot(az.GeschwindigkeitsSollwertAdditiv,'.')"
   ]
  },
  {
   "cell_type": "code",
   "execution_count": 27,
   "metadata": {
    "collapsed": false
   },
   "outputs": [
    {
     "data": {
      "text/plain": [
       "<matplotlib.legend.Legend at 0x7f07f0d47ba8>"
      ]
     },
     "execution_count": 27,
     "metadata": {},
     "output_type": "execute_result"
    }
   ],
   "source": [
    "plt.plot(az.DrehmomentIstwert,'.')\n",
    "plt.plot(az.DrehmomentSollwert,'.')\n",
    "plt.legend()\n"
   ]
  },
  {
   "cell_type": "code",
   "execution_count": 28,
   "metadata": {
    "collapsed": false
   },
   "outputs": [
    {
     "data": {
      "text/plain": [
       "<matplotlib.legend.Legend at 0x7f07f1157cf8>"
      ]
     },
     "execution_count": 28,
     "metadata": {},
     "output_type": "execute_result"
    }
   ],
   "source": [
    "plt.plot(az.DrehmomentIstwert,'.')\n",
    "plt.legend()"
   ]
  },
  {
   "cell_type": "code",
   "execution_count": 33,
   "metadata": {
    "collapsed": false
   },
   "outputs": [
    {
     "data": {
      "text/plain": [
       "<matplotlib.legend.Legend at 0x7f07f02e5208>"
      ]
     },
     "execution_count": 33,
     "metadata": {},
     "output_type": "execute_result"
    }
   ],
   "source": [
    "plt.plot(az.MotorTemperatur, '.:')\n",
    "plt.plot(az.AplifierTemperatur, '.:')\n",
    "plt.legend()"
   ]
  },
  {
   "cell_type": "code",
   "execution_count": 37,
   "metadata": {
    "collapsed": false
   },
   "outputs": [
    {
     "data": {
      "text/plain": [
       "<matplotlib.text.Text at 0x7f07f01afbe0>"
      ]
     },
     "execution_count": 37,
     "metadata": {},
     "output_type": "execute_result"
    }
   ],
   "source": [
    "plt.plot(az.LageIstwert1-az.LageSollwert , '.:')\n",
    "plt.ylabel('az.LageIstwert1-az.LageSollwert')\n"
   ]
  },
  {
   "cell_type": "code",
   "execution_count": 42,
   "metadata": {
    "collapsed": false
   },
   "outputs": [
    {
     "data": {
      "text/plain": [
       "(-0.2, 0.2)"
      ]
     },
     "execution_count": 42,
     "metadata": {},
     "output_type": "execute_result"
    }
   ],
   "source": [
    "plt.ylim(-0.2, 0.2)"
   ]
  },
  {
   "cell_type": "code",
   "execution_count": null,
   "metadata": {
    "collapsed": true
   },
   "outputs": [],
   "source": []
  }
 ],
 "metadata": {
  "kernelspec": {
   "display_name": "Python [default]",
   "language": "python",
   "name": "python3"
  },
  "language_info": {
   "codemirror_mode": {
    "name": "ipython",
    "version": 3
   },
   "file_extension": ".py",
   "mimetype": "text/x-python",
   "name": "python",
   "nbconvert_exporter": "python",
   "pygments_lexer": "ipython3",
   "version": "3.5.2"
  }
 },
 "nbformat": 4,
 "nbformat_minor": 2
}
